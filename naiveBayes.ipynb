{
 "cells": [
  {
   "cell_type": "code",
   "execution_count": 88,
   "metadata": {},
   "outputs": [],
   "source": [
    "import pandas as pd\n",
    "import numpy as np"
   ]
  },
  {
   "cell_type": "code",
   "execution_count": 132,
   "metadata": {},
   "outputs": [
    {
     "name": "stdout",
     "output_type": "stream",
     "text": [
      "['Yes']\n"
     ]
    }
   ],
   "source": [
    "import random\n",
    "columns = ['day', 'discount', 'free delivery', 'buy']\n",
    "day_list = ['Holiday', 'Weekend', 'Weekday']\n",
    "options = ['Yes', 'No']\n",
    "data = []\n",
    "for i in range(100):\n",
    "    d = day_list[random.randint(0,2)]\n",
    "    dis = options[random.randint(0,1)]\n",
    "    deliv = options[random.randint(0,1)]\n",
    "    buy = options[random.randint(0,1)]\n",
    "    data.append([d, dis, deliv, buy])\n",
    "data_array = np.array(data)\n",
    "data_fr = pd.DataFrame(data=data_array, columns=columns)\n",
    "\n",
    "# encoding the label\n",
    "from sklearn import preprocessing\n",
    "le = preprocessing.LabelEncoder()\n",
    "encoded_fr = []\n",
    "for i in columns[:-1]:\n",
    "    encoded_fr.append(le.fit_transform(data_fr[i]))   \n",
    "    \n",
    "# seperating features:\n",
    "features = np.array(list(zip(encoded_fr[0], encoded_fr[1], encoded_fr[2])))\n",
    "label = np.array(data_fr['buy'])\n",
    "\n",
    "# Predicting from the model\n",
    "a = [2,1,1]\n",
    "print(gaussNB.predict([a]))"
   ]
  },
  {
   "cell_type": "code",
   "execution_count": 133,
   "metadata": {},
   "outputs": [
    {
     "data": {
      "text/plain": [
       "((5, 4), (4, 4))"
      ]
     },
     "execution_count": 133,
     "metadata": {},
     "output_type": "execute_result"
    }
   ],
   "source": [
    "result = data_fr[((data_fr[columns[0]]==day_list[a[0]]) & (data_fr[columns[1]]==options[a[1]])) & (data_fr[columns[2]]==options[a[2]])]\n",
    "result[result['buy']==options[0]].shape, result[result['buy']==options[1]].shape"
   ]
  },
  {
   "cell_type": "code",
   "execution_count": null,
   "metadata": {},
   "outputs": [],
   "source": []
  }
 ],
 "metadata": {
  "kernelspec": {
   "display_name": "Python 3",
   "language": "python",
   "name": "python3"
  },
  "language_info": {
   "codemirror_mode": {
    "name": "ipython",
    "version": 3
   },
   "file_extension": ".py",
   "mimetype": "text/x-python",
   "name": "python",
   "nbconvert_exporter": "python",
   "pygments_lexer": "ipython3",
   "version": "3.8.2"
  }
 },
 "nbformat": 4,
 "nbformat_minor": 4
}
