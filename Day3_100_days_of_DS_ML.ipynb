{
 "cells": [
  {
   "cell_type": "markdown",
   "metadata": {},
   "source": [
    "day 3, Python, intro to data science Pandas and numpy intro\n",
    "\n",
    "Source:\n",
    "https://www.datacamp.com/community/blog/python-pandas-cheat-sheet?utm_source=adwords_ppc&utm_campaignid=1658343524&utm_adgroupid=63833881615&utm_device=c&utm_keyword=%2Bpandas%20%2Bcheat%20%2Bsheet&utm_matchtype=b&utm_network=g&utm_adpostion=&utm_creative=319519154601&utm_targetid=aud-522010995285:kwd-589281899014&utm_loc_interest_ms=&utm_loc_physical_ms=9070019&gclid=CjwKCAjwyo36BRAXEiwA24CwGdZ45--NB3kQf7qzocj2EE-TZ_W3PHxDd2SzmqoCwURD8PaCiKg67RoC7VUQAvD_BwE"
   ]
  },
  {
   "cell_type": "code",
   "execution_count": 41,
   "metadata": {},
   "outputs": [],
   "source": [
    "import pandas as pd\n",
    "from datetime import datetime\n",
    "data_csv = pd.read_csv(\"KTM_WEATHER_DATA.csv\")\n",
    "\n",
    "def str_to_date(str_date):\n",
    "    dates, time = str_date.split('T') \n",
    "    time = time[0:2] + ':' + time[2:] + ':00'\n",
    "    dates = dates[-2:]+'/'+dates[-4:-2]+'/'+dates[2:4]\n",
    "    datestime = dates + ' ' + time\n",
    "    return (datetime.strptime(datestime, '%d/%m/%y %H:%M:%S'))\n",
    "\n",
    "year = []\n",
    "month = []\n",
    "day = []\n",
    "time = []\n",
    "for i in data_csv['timestamp']:\n",
    "    year.append(str_to_date(i).year)\n",
    "    month.append(str_to_date(i).month)\n",
    "    day.append(str_to_date(i).day)\n",
    "    time.append(str_to_date(i).time())\n",
    "data_csv.insert(column = 'Time', value=time, loc =1)\n",
    "data_csv.insert(column = 'Day', value=day, loc =1)\n",
    "data_csv.insert(column = 'Month', value=month, loc =1)\n",
    "data_csv.insert(column = 'Year', value=year, loc =1)\n"
   ]
  },
  {
   "cell_type": "code",
   "execution_count": 42,
   "metadata": {},
   "outputs": [
    {
     "name": "stdout",
     "output_type": "stream",
     "text": [
      "   Month  Day  Temperature\n",
      "0      8   16    20.840800\n",
      "1      8   16    20.680800\n",
      "2      8   16    20.380800\n",
      "3      8   16    19.920801\n",
      "4      8   16    20.200800\n"
     ]
    }
   ],
   "source": [
    "print(data_csv[['Month', 'Day', 'Temperature']].head())"
   ]
  },
  {
   "cell_type": "code",
   "execution_count": 43,
   "metadata": {},
   "outputs": [
    {
     "data": {
      "text/html": [
       "<div>\n",
       "<style scoped>\n",
       "    .dataframe tbody tr th:only-of-type {\n",
       "        vertical-align: middle;\n",
       "    }\n",
       "\n",
       "    .dataframe tbody tr th {\n",
       "        vertical-align: top;\n",
       "    }\n",
       "\n",
       "    .dataframe thead th {\n",
       "        text-align: right;\n",
       "    }\n",
       "</style>\n",
       "<table border=\"1\" class=\"dataframe\">\n",
       "  <thead>\n",
       "    <tr style=\"text-align: right;\">\n",
       "      <th></th>\n",
       "      <th>Month</th>\n",
       "      <th>Day</th>\n",
       "      <th>Temperature</th>\n",
       "    </tr>\n",
       "  </thead>\n",
       "  <tbody>\n",
       "    <tr>\n",
       "      <th>3</th>\n",
       "      <td>8</td>\n",
       "      <td>16</td>\n",
       "      <td>19.920801</td>\n",
       "    </tr>\n",
       "    <tr>\n",
       "      <th>4</th>\n",
       "      <td>8</td>\n",
       "      <td>16</td>\n",
       "      <td>20.200800</td>\n",
       "    </tr>\n",
       "  </tbody>\n",
       "</table>\n",
       "</div>"
      ],
      "text/plain": [
       "   Month  Day  Temperature\n",
       "3      8   16    19.920801\n",
       "4      8   16    20.200800"
      ]
     },
     "execution_count": 43,
     "metadata": {},
     "output_type": "execute_result"
    }
   ],
   "source": [
    "# dataFrame_obj[ starting_index : ending_index ][ [<list_of_columns>]]\n",
    "data_csv[3:5][['Month', 'Day', 'Temperature']]"
   ]
  },
  {
   "cell_type": "code",
   "execution_count": 44,
   "metadata": {},
   "outputs": [
    {
     "name": "stdout",
     "output_type": "stream",
     "text": [
      "   Day\n",
      "0   16\n",
      "   Temperature\n",
      "0      20.8408\n"
     ]
    }
   ],
   "source": [
    "print(data_csv.iloc[[0],[3]]) #indexing by position\n",
    "\n",
    "print(data_csv.loc[[0],['Temperature']]) #indexing by label"
   ]
  },
  {
   "cell_type": "code",
   "execution_count": 45,
   "metadata": {},
   "outputs": [
    {
     "data": {
      "text/html": [
       "<div>\n",
       "<style scoped>\n",
       "    .dataframe tbody tr th:only-of-type {\n",
       "        vertical-align: middle;\n",
       "    }\n",
       "\n",
       "    .dataframe tbody tr th {\n",
       "        vertical-align: top;\n",
       "    }\n",
       "\n",
       "    .dataframe thead th {\n",
       "        text-align: right;\n",
       "    }\n",
       "</style>\n",
       "<table border=\"1\" class=\"dataframe\">\n",
       "  <thead>\n",
       "    <tr style=\"text-align: right;\">\n",
       "      <th></th>\n",
       "      <th>timestamp</th>\n",
       "      <th>Year</th>\n",
       "      <th>Month</th>\n",
       "      <th>Day</th>\n",
       "      <th>Time</th>\n",
       "      <th>Temperature</th>\n",
       "      <th>Precipitation</th>\n",
       "      <th>Wind Speed</th>\n",
       "      <th>Wind Direction</th>\n",
       "    </tr>\n",
       "  </thead>\n",
       "  <tbody>\n",
       "    <tr>\n",
       "      <th>24</th>\n",
       "      <td>20200817T0000</td>\n",
       "      <td>2020</td>\n",
       "      <td>8</td>\n",
       "      <td>17</td>\n",
       "      <td>00:00:00</td>\n",
       "      <td>20.750801</td>\n",
       "      <td>0.1</td>\n",
       "      <td>1.332000</td>\n",
       "      <td>323.13013</td>\n",
       "    </tr>\n",
       "    <tr>\n",
       "      <th>25</th>\n",
       "      <td>20200817T0100</td>\n",
       "      <td>2020</td>\n",
       "      <td>8</td>\n",
       "      <td>17</td>\n",
       "      <td>01:00:00</td>\n",
       "      <td>20.540800</td>\n",
       "      <td>0.0</td>\n",
       "      <td>1.705792</td>\n",
       "      <td>321.34020</td>\n",
       "    </tr>\n",
       "    <tr>\n",
       "      <th>26</th>\n",
       "      <td>20200817T0200</td>\n",
       "      <td>2020</td>\n",
       "      <td>8</td>\n",
       "      <td>17</td>\n",
       "      <td>02:00:00</td>\n",
       "      <td>20.420801</td>\n",
       "      <td>0.0</td>\n",
       "      <td>1.130240</td>\n",
       "      <td>315.00000</td>\n",
       "    </tr>\n",
       "    <tr>\n",
       "      <th>27</th>\n",
       "      <td>20200817T0300</td>\n",
       "      <td>2020</td>\n",
       "      <td>8</td>\n",
       "      <td>17</td>\n",
       "      <td>03:00:00</td>\n",
       "      <td>20.310800</td>\n",
       "      <td>0.0</td>\n",
       "      <td>0.595689</td>\n",
       "      <td>296.56506</td>\n",
       "    </tr>\n",
       "    <tr>\n",
       "      <th>28</th>\n",
       "      <td>20200817T0400</td>\n",
       "      <td>2020</td>\n",
       "      <td>8</td>\n",
       "      <td>17</td>\n",
       "      <td>04:00:00</td>\n",
       "      <td>20.210800</td>\n",
       "      <td>0.0</td>\n",
       "      <td>0.842431</td>\n",
       "      <td>288.43494</td>\n",
       "    </tr>\n",
       "    <tr>\n",
       "      <th>...</th>\n",
       "      <td>...</td>\n",
       "      <td>...</td>\n",
       "      <td>...</td>\n",
       "      <td>...</td>\n",
       "      <td>...</td>\n",
       "      <td>...</td>\n",
       "      <td>...</td>\n",
       "      <td>...</td>\n",
       "      <td>...</td>\n",
       "    </tr>\n",
       "    <tr>\n",
       "      <th>187</th>\n",
       "      <td>20200823T1900</td>\n",
       "      <td>2020</td>\n",
       "      <td>8</td>\n",
       "      <td>23</td>\n",
       "      <td>19:00:00</td>\n",
       "      <td>20.730800</td>\n",
       "      <td>0.0</td>\n",
       "      <td>1.921038</td>\n",
       "      <td>236.30994</td>\n",
       "    </tr>\n",
       "    <tr>\n",
       "      <th>188</th>\n",
       "      <td>20200823T2000</td>\n",
       "      <td>2020</td>\n",
       "      <td>8</td>\n",
       "      <td>23</td>\n",
       "      <td>20:00:00</td>\n",
       "      <td>20.020800</td>\n",
       "      <td>0.0</td>\n",
       "      <td>1.191377</td>\n",
       "      <td>243.43495</td>\n",
       "    </tr>\n",
       "    <tr>\n",
       "      <th>189</th>\n",
       "      <td>20200823T2100</td>\n",
       "      <td>2020</td>\n",
       "      <td>8</td>\n",
       "      <td>23</td>\n",
       "      <td>21:00:00</td>\n",
       "      <td>19.830801</td>\n",
       "      <td>0.0</td>\n",
       "      <td>1.130240</td>\n",
       "      <td>315.00000</td>\n",
       "    </tr>\n",
       "    <tr>\n",
       "      <th>190</th>\n",
       "      <td>20200823T2200</td>\n",
       "      <td>2020</td>\n",
       "      <td>8</td>\n",
       "      <td>23</td>\n",
       "      <td>22:00:00</td>\n",
       "      <td>19.500801</td>\n",
       "      <td>0.0</td>\n",
       "      <td>1.787066</td>\n",
       "      <td>296.56506</td>\n",
       "    </tr>\n",
       "    <tr>\n",
       "      <th>191</th>\n",
       "      <td>20200823T2300</td>\n",
       "      <td>2020</td>\n",
       "      <td>8</td>\n",
       "      <td>23</td>\n",
       "      <td>23:00:00</td>\n",
       "      <td>19.650800</td>\n",
       "      <td>0.0</td>\n",
       "      <td>2.291659</td>\n",
       "      <td>305.53770</td>\n",
       "    </tr>\n",
       "  </tbody>\n",
       "</table>\n",
       "<p>168 rows × 9 columns</p>\n",
       "</div>"
      ],
      "text/plain": [
       "         timestamp  Year  Month  Day      Time  Temperature  Precipitation  \\\n",
       "24   20200817T0000  2020      8   17  00:00:00    20.750801            0.1   \n",
       "25   20200817T0100  2020      8   17  01:00:00    20.540800            0.0   \n",
       "26   20200817T0200  2020      8   17  02:00:00    20.420801            0.0   \n",
       "27   20200817T0300  2020      8   17  03:00:00    20.310800            0.0   \n",
       "28   20200817T0400  2020      8   17  04:00:00    20.210800            0.0   \n",
       "..             ...   ...    ...  ...       ...          ...            ...   \n",
       "187  20200823T1900  2020      8   23  19:00:00    20.730800            0.0   \n",
       "188  20200823T2000  2020      8   23  20:00:00    20.020800            0.0   \n",
       "189  20200823T2100  2020      8   23  21:00:00    19.830801            0.0   \n",
       "190  20200823T2200  2020      8   23  22:00:00    19.500801            0.0   \n",
       "191  20200823T2300  2020      8   23  23:00:00    19.650800            0.0   \n",
       "\n",
       "     Wind Speed  Wind Direction  \n",
       "24     1.332000       323.13013  \n",
       "25     1.705792       321.34020  \n",
       "26     1.130240       315.00000  \n",
       "27     0.595689       296.56506  \n",
       "28     0.842431       288.43494  \n",
       "..          ...             ...  \n",
       "187    1.921038       236.30994  \n",
       "188    1.191377       243.43495  \n",
       "189    1.130240       315.00000  \n",
       "190    1.787066       296.56506  \n",
       "191    2.291659       305.53770  \n",
       "\n",
       "[168 rows x 9 columns]"
      ]
     },
     "execution_count": 45,
     "metadata": {},
     "output_type": "execute_result"
    }
   ],
   "source": [
    "#boolean indexing\n",
    "data_csv[data_csv['Day']>16]\n"
   ]
  },
  {
   "cell_type": "code",
   "execution_count": 46,
   "metadata": {},
   "outputs": [],
   "source": [
    "data_csv = data_csv.drop('timestamp', axis=1)"
   ]
  },
  {
   "cell_type": "code",
   "execution_count": 49,
   "metadata": {},
   "outputs": [
    {
     "name": "stdout",
     "output_type": "stream",
     "text": [
      "(192, 8)\n",
      "RangeIndex(start=0, stop=192, step=1)\n",
      "Index(['Year', 'Month', 'Day', 'Time', 'Temperature', 'Precipitation',\n",
      "       'Wind Speed', 'Wind Direction'],\n",
      "      dtype='object')\n",
      "<class 'pandas.core.frame.DataFrame'>\n",
      "RangeIndex: 192 entries, 0 to 191\n",
      "Data columns (total 8 columns):\n",
      " #   Column          Non-Null Count  Dtype  \n",
      "---  ------          --------------  -----  \n",
      " 0   Year            192 non-null    int64  \n",
      " 1   Month           192 non-null    int64  \n",
      " 2   Day             192 non-null    int64  \n",
      " 3   Time            192 non-null    object \n",
      " 4   Temperature     192 non-null    float64\n",
      " 5   Precipitation   192 non-null    float64\n",
      " 6   Wind Speed      192 non-null    float64\n",
      " 7   Wind Direction  192 non-null    float64\n",
      "dtypes: float64(4), int64(3), object(1)\n",
      "memory usage: 11.3+ KB\n",
      "None\n",
      "Year              192\n",
      "Month             192\n",
      "Day               192\n",
      "Time              192\n",
      "Temperature       192\n",
      "Precipitation     192\n",
      "Wind Speed        192\n",
      "Wind Direction    192\n",
      "dtype: int64\n"
     ]
    }
   ],
   "source": [
    "print(data_csv.shape)\n",
    "print(data_csv.index)\n",
    "print(data_csv.columns)\n",
    "print(data_csv.info())\n",
    "print(data_csv.count())"
   ]
  },
  {
   "cell_type": "code",
   "execution_count": 51,
   "metadata": {},
   "outputs": [],
   "source": [
    "func = lambda x: x+10"
   ]
  },
  {
   "cell_type": "code",
   "execution_count": 57,
   "metadata": {},
   "outputs": [
    {
     "data": {
      "text/html": [
       "<div>\n",
       "<style scoped>\n",
       "    .dataframe tbody tr th:only-of-type {\n",
       "        vertical-align: middle;\n",
       "    }\n",
       "\n",
       "    .dataframe tbody tr th {\n",
       "        vertical-align: top;\n",
       "    }\n",
       "\n",
       "    .dataframe thead th {\n",
       "        text-align: right;\n",
       "    }\n",
       "</style>\n",
       "<table border=\"1\" class=\"dataframe\">\n",
       "  <thead>\n",
       "    <tr style=\"text-align: right;\">\n",
       "      <th></th>\n",
       "      <th>Temperature</th>\n",
       "      <th>Day</th>\n",
       "    </tr>\n",
       "  </thead>\n",
       "  <tbody>\n",
       "    <tr>\n",
       "      <th>0</th>\n",
       "      <td>30.840800</td>\n",
       "      <td>26</td>\n",
       "    </tr>\n",
       "    <tr>\n",
       "      <th>1</th>\n",
       "      <td>30.680800</td>\n",
       "      <td>26</td>\n",
       "    </tr>\n",
       "    <tr>\n",
       "      <th>2</th>\n",
       "      <td>30.380800</td>\n",
       "      <td>26</td>\n",
       "    </tr>\n",
       "    <tr>\n",
       "      <th>3</th>\n",
       "      <td>29.920801</td>\n",
       "      <td>26</td>\n",
       "    </tr>\n",
       "    <tr>\n",
       "      <th>4</th>\n",
       "      <td>30.200800</td>\n",
       "      <td>26</td>\n",
       "    </tr>\n",
       "    <tr>\n",
       "      <th>...</th>\n",
       "      <td>...</td>\n",
       "      <td>...</td>\n",
       "    </tr>\n",
       "    <tr>\n",
       "      <th>187</th>\n",
       "      <td>30.730800</td>\n",
       "      <td>33</td>\n",
       "    </tr>\n",
       "    <tr>\n",
       "      <th>188</th>\n",
       "      <td>30.020800</td>\n",
       "      <td>33</td>\n",
       "    </tr>\n",
       "    <tr>\n",
       "      <th>189</th>\n",
       "      <td>29.830801</td>\n",
       "      <td>33</td>\n",
       "    </tr>\n",
       "    <tr>\n",
       "      <th>190</th>\n",
       "      <td>29.500801</td>\n",
       "      <td>33</td>\n",
       "    </tr>\n",
       "    <tr>\n",
       "      <th>191</th>\n",
       "      <td>29.650800</td>\n",
       "      <td>33</td>\n",
       "    </tr>\n",
       "  </tbody>\n",
       "</table>\n",
       "<p>192 rows × 2 columns</p>\n",
       "</div>"
      ],
      "text/plain": [
       "     Temperature  Day\n",
       "0      30.840800   26\n",
       "1      30.680800   26\n",
       "2      30.380800   26\n",
       "3      29.920801   26\n",
       "4      30.200800   26\n",
       "..           ...  ...\n",
       "187    30.730800   33\n",
       "188    30.020800   33\n",
       "189    29.830801   33\n",
       "190    29.500801   33\n",
       "191    29.650800   33\n",
       "\n",
       "[192 rows x 2 columns]"
      ]
     },
     "execution_count": 57,
     "metadata": {},
     "output_type": "execute_result"
    }
   ],
   "source": [
    "data_csv[['Temperature','Day']].applymap(func)"
   ]
  },
  {
   "cell_type": "code",
   "execution_count": 64,
   "metadata": {},
   "outputs": [
    {
     "name": "stdout",
     "output_type": "stream",
     "text": [
      "0      0\n",
      "1      1\n",
      "2      2\n",
      "3      3\n",
      "4      4\n",
      "5      5\n",
      "6      6\n",
      "7      7\n",
      "8      8\n",
      "9      9\n",
      "10    10\n",
      "11    11\n",
      "12    12\n",
      "13    13\n",
      "14    14\n",
      "15    15\n",
      "16    16\n",
      "17    17\n",
      "18    18\n",
      "19    19\n",
      "20    20\n",
      "21    21\n",
      "22    22\n",
      "23    23\n",
      "24    24\n",
      "25    25\n",
      "26    26\n",
      "27    27\n",
      "28    28\n",
      "dtype: int64\n"
     ]
    },
    {
     "data": {
      "text/plain": [
       "11    11\n",
       "12    12\n",
       "13    13\n",
       "14    14\n",
       "15    15\n",
       "16    16\n",
       "17    17\n",
       "18    18\n",
       "19    19\n",
       "20    20\n",
       "21    21\n",
       "22    22\n",
       "23    23\n",
       "24    24\n",
       "25    25\n",
       "26    26\n",
       "27    27\n",
       "28    28\n",
       "dtype: int64"
      ]
     },
     "execution_count": 64,
     "metadata": {},
     "output_type": "execute_result"
    }
   ],
   "source": [
    "s = pd.Series(range(29), index=range(29))\n",
    "print(s)\n",
    "s[s>10]"
   ]
  },
  {
   "cell_type": "markdown",
   "metadata": {},
   "source": [
    "Numpy array and matplotlib\n",
    "Source:\n",
    "https://www.datacamp.com/community/tutorials/python-numpy-tutorial?utm_source=adwords_ppc&utm_campaignid=1455363063&utm_adgroupid=65083631748&utm_device=c&utm_keyword=&utm_matchtype=b&utm_network=g&utm_adpostion=&utm_creative=332602034364&utm_targetid=aud-390929969673:dsa-473406585115&utm_loc_interest_ms=&utm_loc_physical_ms=9070019&gclid=CjwKCAjwyo36BRAXEiwA24CwGUcbz9bE56vhSHiG_0ScX0akkCWvbdhao9uHqookjK9dBiLb71Rl2hoCPukQAvD_BwE"
   ]
  },
  {
   "cell_type": "code",
   "execution_count": 9,
   "metadata": {},
   "outputs": [
    {
     "ename": "NameError",
     "evalue": "name 'data_csv' is not defined",
     "output_type": "error",
     "traceback": [
      "\u001b[1;31m---------------------------------------------------------------------------\u001b[0m",
      "\u001b[1;31mNameError\u001b[0m                                 Traceback (most recent call last)",
      "\u001b[1;32m<ipython-input-9-987f4411df70>\u001b[0m in \u001b[0;36m<module>\u001b[1;34m\u001b[0m\n\u001b[0;32m      1\u001b[0m \u001b[1;32mimport\u001b[0m \u001b[0mnumpy\u001b[0m \u001b[1;32mas\u001b[0m \u001b[0mnp\u001b[0m\u001b[1;33m\u001b[0m\u001b[1;33m\u001b[0m\u001b[0m\n\u001b[1;32m----> 2\u001b[1;33m \u001b[0mtime_temp_data\u001b[0m \u001b[1;33m=\u001b[0m \u001b[0mnp\u001b[0m\u001b[1;33m.\u001b[0m\u001b[0marray\u001b[0m\u001b[1;33m(\u001b[0m\u001b[0mdata_csv\u001b[0m\u001b[1;33m[\u001b[0m\u001b[1;33m[\u001b[0m\u001b[1;34m'Day'\u001b[0m\u001b[1;33m,\u001b[0m\u001b[1;34m'Time'\u001b[0m\u001b[1;33m,\u001b[0m\u001b[1;34m'Temperature'\u001b[0m\u001b[1;33m]\u001b[0m\u001b[1;33m]\u001b[0m\u001b[1;33m)\u001b[0m\u001b[1;33m\u001b[0m\u001b[1;33m\u001b[0m\u001b[0m\n\u001b[0m\u001b[0;32m      3\u001b[0m \u001b[1;33m\u001b[0m\u001b[0m\n\u001b[0;32m      4\u001b[0m \u001b[0mprint\u001b[0m\u001b[1;33m(\u001b[0m\u001b[0mtime_temp_data\u001b[0m\u001b[1;33m[\u001b[0m\u001b[1;36m0\u001b[0m\u001b[1;33m:\u001b[0m\u001b[1;36m5\u001b[0m\u001b[1;33m]\u001b[0m\u001b[1;33m)\u001b[0m\u001b[1;33m\u001b[0m\u001b[1;33m\u001b[0m\u001b[0m\n",
      "\u001b[1;31mNameError\u001b[0m: name 'data_csv' is not defined"
     ]
    }
   ],
   "source": [
    "import numpy as np\n",
    "time_temp_data = np.array(data_csv[['Day','Time','Temperature']])\n",
    "\n",
    "print(time_temp_data[0:5])"
   ]
  },
  {
   "cell_type": "code",
   "execution_count": 85,
   "metadata": {},
   "outputs": [
    {
     "name": "stdout",
     "output_type": "stream",
     "text": [
      "[[0.02348287 0.37790118 0.97668843]\n",
      " [0.82168597 0.4049323  0.23671484]\n",
      " [0.26516957 0.86433263 0.46498074]]\n",
      "[[1. 1. 1. 1.]\n",
      " [1. 1. 1. 1.]\n",
      " [1. 1. 1. 1.]]\n",
      "[[[0 0 0 0]\n",
      "  [0 0 0 0]\n",
      "  [0 0 0 0]]\n",
      "\n",
      " [[0 0 0 0]\n",
      "  [0 0 0 0]\n",
      "  [0 0 0 0]]]\n",
      "[[0.23471235 0.32329539]\n",
      " [0.21306736 0.98933242]]\n",
      "[[0. 0.]\n",
      " [0. 0.]\n",
      " [0. 0.]]\n",
      "[[3.2 3.2]\n",
      " [3.2 3.2]]\n",
      "[10 15 20]\n",
      "[0.   0.25 0.5  0.75 1.   1.25 1.5  1.75 2.  ]\n"
     ]
    }
   ],
   "source": [
    "#generate random in numpy\n",
    "print(np.random.random((3,3)))\n",
    "\n",
    "# Create an array of ones\n",
    "print(np.ones((3,4)))\n",
    "\n",
    "# Create an array of zeros\n",
    "print(np.zeros((2,3,4),dtype=np.int16))\n",
    "\n",
    "# Create an array with random values\n",
    "print(np.random.random((2,2)))\n",
    "\n",
    "# Create an empty array\n",
    "print(np.empty((3,2)))\n",
    "\n",
    "# Create a full array\n",
    "print(np.full((2,2),3.2))\n",
    "\n",
    "# Create an array of evenly-spaced values\n",
    "print(np.arange(10,25,5))\n",
    "\n",
    "# Create an array of evenly-spaced values\n",
    "print(np.linspace(0,2,9))"
   ]
  },
  {
   "cell_type": "markdown",
   "metadata": {},
   "source": [
    "we can also generate numpy array from text files"
   ]
  },
  {
   "cell_type": "code",
   "execution_count": 12,
   "metadata": {},
   "outputs": [
    {
     "ename": "ValueError",
     "evalue": "operands could not be broadcast together with shapes (3,2,1) (3,1) ",
     "output_type": "error",
     "traceback": [
      "\u001b[1;31m---------------------------------------------------------------------------\u001b[0m",
      "\u001b[1;31mValueError\u001b[0m                                Traceback (most recent call last)",
      "\u001b[1;32m<ipython-input-12-9c6606f0a6ad>\u001b[0m in \u001b[0;36m<module>\u001b[1;34m\u001b[0m\n\u001b[0;32m      2\u001b[0m \u001b[0mx\u001b[0m \u001b[1;33m=\u001b[0m \u001b[0mnp\u001b[0m\u001b[1;33m.\u001b[0m\u001b[0mrandom\u001b[0m\u001b[1;33m.\u001b[0m\u001b[0mrandom\u001b[0m\u001b[1;33m(\u001b[0m\u001b[1;33m(\u001b[0m\u001b[1;36m3\u001b[0m\u001b[1;33m,\u001b[0m\u001b[1;36m2\u001b[0m\u001b[1;33m,\u001b[0m\u001b[1;36m1\u001b[0m\u001b[1;33m)\u001b[0m\u001b[1;33m)\u001b[0m\u001b[1;33m\u001b[0m\u001b[1;33m\u001b[0m\u001b[0m\n\u001b[0;32m      3\u001b[0m \u001b[0my\u001b[0m \u001b[1;33m=\u001b[0m \u001b[0mnp\u001b[0m\u001b[1;33m.\u001b[0m\u001b[0mones\u001b[0m\u001b[1;33m(\u001b[0m\u001b[1;33m(\u001b[0m\u001b[1;36m3\u001b[0m\u001b[1;33m,\u001b[0m\u001b[1;36m1\u001b[0m\u001b[1;33m)\u001b[0m\u001b[1;33m)\u001b[0m\u001b[1;33m\u001b[0m\u001b[1;33m\u001b[0m\u001b[0m\n\u001b[1;32m----> 4\u001b[1;33m \u001b[0mprint\u001b[0m\u001b[1;33m(\u001b[0m\u001b[0mx\u001b[0m\u001b[1;33m+\u001b[0m\u001b[0my\u001b[0m\u001b[1;33m)\u001b[0m\u001b[1;33m\u001b[0m\u001b[1;33m\u001b[0m\u001b[0m\n\u001b[0m",
      "\u001b[1;31mValueError\u001b[0m: operands could not be broadcast together with shapes (3,2,1) (3,1) "
     ]
    }
   ],
   "source": [
    "#broadcasting in numpy\n",
    "x = np.random.random((3,2,1))\n",
    "y = np.ones((3,1))\n",
    "print(x+y)"
   ]
  },
  {
   "cell_type": "code",
   "execution_count": 118,
   "metadata": {},
   "outputs": [
    {
     "name": "stdout",
     "output_type": "stream",
     "text": [
      "[[[7.15923418 7.41712108 4.02495071 7.50879933]]\n",
      "\n",
      " [[6.73547593 4.74567961 4.21299898 4.02208985]]\n",
      "\n",
      " [[7.74001978 6.23750774 7.92382723 7.43377574]]\n",
      "\n",
      " [[5.8677611  4.29060611 7.23062943 4.41864941]]\n",
      "\n",
      " [[4.7065239  6.95846457 4.48977029 5.4738553 ]]]\n"
     ]
    }
   ],
   "source": [
    "# Initialize `x` and `y`\n",
    "x = np.ones((3,4))\n",
    "y = np.random.random((5,1,4))\n",
    "\n",
    "# Add `x` and `y`\n",
    "print((y+2)**2)"
   ]
  },
  {
   "cell_type": "code",
   "execution_count": 139,
   "metadata": {},
   "outputs": [
    {
     "name": "stdout",
     "output_type": "stream",
     "text": [
      "16\n",
      "03:00:00\n",
      "19.920801\n",
      "17\n",
      "05:00:00\n",
      "19.8208\n",
      "18\n",
      "04:00:00\n",
      "19.8908\n",
      "18\n",
      "05:00:00\n",
      "19.6008\n",
      "21\n",
      "03:00:00\n",
      "19.8808\n",
      "21\n",
      "04:00:00\n",
      "19.8708\n",
      "21\n",
      "05:00:00\n",
      "19.9508\n",
      "22\n",
      "01:00:00\n",
      "19.5508\n",
      "22\n",
      "02:00:00\n",
      "19.5608\n",
      "22\n",
      "03:00:00\n",
      "19.8208\n",
      "22\n",
      "04:00:00\n",
      "19.9708\n",
      "23\n",
      "02:00:00\n",
      "19.9408\n",
      "23\n",
      "03:00:00\n",
      "19.8008\n",
      "23\n",
      "04:00:00\n",
      "19.7708\n",
      "23\n",
      "05:00:00\n",
      "19.670801\n",
      "23\n",
      "21:00:00\n",
      "19.830801\n",
      "23\n",
      "22:00:00\n",
      "19.500801\n",
      "23\n",
      "23:00:00\n",
      "19.6508\n"
     ]
    }
   ],
   "source": [
    "# Masking in numpy_array\n",
    "a = time_temp_data[time_temp_data[:,2]<20]\n",
    "b=a\n",
    "b."
   ]
  },
  {
   "cell_type": "markdown",
   "metadata": {},
   "source": [
    "Addtional Source:\n",
    "    https://numpy.org/doc/stable/user/quickstart.html\n",
    "    \n",
    "    \n",
    "Tomorrow start from here:\n",
    "    https://numpy.org/doc/stable/user/quickstart.html#less-basic"
   ]
  },
  {
   "cell_type": "code",
   "execution_count": 1,
   "metadata": {},
   "outputs": [
    {
     "name": "stdout",
     "output_type": "stream",
     "text": [
      "Enter no. of days:8\n",
      "Final result Day: 8 Total Flies : 129\n"
     ]
    }
   ],
   "source": []
  }
 ],
 "metadata": {
  "kernelspec": {
   "display_name": "Python 3",
   "language": "python",
   "name": "python3"
  },
  "language_info": {
   "codemirror_mode": {
    "name": "ipython",
    "version": 3
   },
   "file_extension": ".py",
   "mimetype": "text/x-python",
   "name": "python",
   "nbconvert_exporter": "python",
   "pygments_lexer": "ipython3",
   "version": "3.8.1"
  }
 },
 "nbformat": 4,
 "nbformat_minor": 4
}
