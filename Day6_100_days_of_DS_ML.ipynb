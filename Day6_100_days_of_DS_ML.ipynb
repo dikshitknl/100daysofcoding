{
 "cells": [
  {
   "cell_type": "markdown",
   "metadata": {},
   "source": [
    "Using Matplotlib to manipulate image data. Histogram, Matrix in numpy"
   ]
  },
  {
   "cell_type": "code",
   "execution_count": 4,
   "metadata": {},
   "outputs": [],
   "source": [
    "import pandas as pd\n",
    "import matplotlib.pyplot as plt\n",
    "import numpy as np\n",
    "\n",
    "from datetime import datetime\n",
    "data_csv = pd.read_csv(\"KTM_WEATHER_DATA.csv\")\n",
    "\n",
    "def str_to_date(str_date):\n",
    "    dates, time = str_date.split('T') \n",
    "    time = time[0:2] + ':' + time[2:] + ':00'\n",
    "    dates = dates[-2:]+'/'+dates[-4:-2]+'/'+dates[2:4]\n",
    "    datestime = dates + ' ' + time\n",
    "    return (datetime.strptime(datestime, '%d/%m/%y %H:%M:%S'))\n",
    "\n",
    "year = []\n",
    "month = []\n",
    "day = []\n",
    "time = []\n",
    "for i in data_csv['timestamp']:\n",
    "    year.append(str_to_date(i).year)\n",
    "    month.append(str_to_date(i).month)\n",
    "    day.append(str_to_date(i).day)\n",
    "    time.append(str_to_date(i).time())\n",
    "data_csv.insert(column = 'Time', value=time, loc =1)\n",
    "data_csv.insert(column = 'Day', value=day, loc =1)\n",
    "data_csv.insert(column = 'Month', value=month, loc =1)\n",
    "data_csv.insert(column = 'Year', value=year, loc =1)\n",
    "time_temp_data = np.array(data_csv[['Day','Time','Temperature']])"
   ]
  },
  {
   "cell_type": "code",
   "execution_count": 5,
   "metadata": {},
   "outputs": [],
   "source": [
    "all_temp = time_temp_data[:,2]"
   ]
  },
  {
   "cell_type": "code",
   "execution_count": 8,
   "metadata": {},
   "outputs": [
    {
     "data": {
      "image/png": "[encoded data removed]",
      "text/plain": [
       "<Figure size 432x288 with 1 Axes>"
      ]
     },
     "metadata": {
      "needs_background": "light"
     },
     "output_type": "display_data"
    }
   ],
   "source": [
    "\n",
    "a,b,c = plt.hist(np.random.randn((20000)), 310,density=1, histtype='bar')"
   ]
  },
  {
   "cell_type": "code",
   "execution_count": 51,
   "metadata": {},
   "outputs": [],
   "source": [
    "import matplotlib.image as mpimg\n",
    "from PIL import Image\n"
   ]
  },
  {
   "cell_type": "code",
   "execution_count": 128,
   "metadata": {},
   "outputs": [
    {
     "data": {
      "image/png": "[encoded data removed]",
      "text/plain": [
       "<Figure size 432x288 with 2 Axes>"
      ]
     },
     "metadata": {
      "needs_background": "light"
     },
     "output_type": "display_data"
    }
   ],
   "source": [
    "image = Image.open(\"example.png\")\n",
    "image.thumbnail((128, 64), Image.ANTIALIAS) \n",
    "imgplot = plt.imshow(image)\n",
    "plt.colorbar()\n",
    "\n",
    "matA = np.round(np.random.randn(5,4)*100)\n",
    "matB = np.round(np.random.randn(4,5)*100)"
   ]
  },
  {
   "cell_type": "code",
   "execution_count": 132,
   "metadata": {},
   "outputs": [
    {
     "name": "stdout",
     "output_type": "stream",
     "text": [
      "[[   8.  123. -213.  140.]\n",
      " [  34.   17.  -43.   55.]\n",
      " [-201.  112. -113.   19.]\n",
      " [  54.   73. -125. -229.]\n",
      " [ 227. -121.  147.  -22.]]\n"
     ]
    },
    {
     "data": {
      "text/plain": [
       "19.0"
      ]
     },
     "execution_count": 132,
     "metadata": {},
     "output_type": "execute_result"
    }
   ],
   "source": [
    "#Matrix in numpy\n",
    "print(matA)\n",
    "matA[2,3]"
   ]
  }
 ],
 "metadata": {
  "kernelspec": {
   "display_name": "Python 3",
   "language": "python",
   "name": "python3"
  },
  "language_info": {
   "codemirror_mode": {
    "name": "ipython",
    "version": 3
   },
   "file_extension": ".py",
   "mimetype": "text/x-python",
   "name": "python",
   "nbconvert_exporter": "python",
   "pygments_lexer": "ipython3",
   "version": "3.8.1"
  }
 },
 "nbformat": 4,
 "nbformat_minor": 4
}
